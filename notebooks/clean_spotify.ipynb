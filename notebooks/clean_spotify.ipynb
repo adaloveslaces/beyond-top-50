{
 "cells": [
  {
   "cell_type": "code",
   "execution_count": 13,
   "id": "e27713ea",
   "metadata": {},
   "outputs": [],
   "source": [
    "\n",
    "import os\n",
    "import json\n",
    "import pandas as pd\n"
   ]
  },
  {
   "cell_type": "code",
   "execution_count": null,
   "id": "e1160eb7",
   "metadata": {},
   "outputs": [],
   "source": [
    "RAW_DIR = \"../data_raw/spotify_top_songs\"\n",
    "OUTPUT_FILE = \"../data_clean/spotify_top_songs_clean.csv\"\n",
    "os.makedirs(\"data_clean\", exist_ok=True)"
   ]
  },
  {
   "cell_type": "code",
   "execution_count": null,
   "id": "0a7d0b17",
   "metadata": {},
   "outputs": [],
   "source": [
    "def load_json(filepath):\n",
    "    with open(filepath, 'r', encoding='utf-8') as f:\n",
    "        return json.load(f)\n",
    "\n",
    "def extract_track_info(item, genre):\n",
    "    \"\"\"Extract useful metadata from raw track object\"\"\"\n",
    "    track = item.get(\"track\")\n",
    "    if not track:\n",
    "        return None\n",
    "    \n",
    "    return {\n",
    "        \"id\": track.get(\"id\"),\n",
    "        \"name\": track.get(\"name\"),\n",
    "        \"artists\": \", \".join([artist.get(\"name\") for artist in track.get(\"artists\", [])]),\n",
    "        \"album\": track.get(\"album\", {}).get(\"name\"),\n",
    "        \"release_date\": track.get(\"album\", {}).get(\"release_date\"),\n",
    "        \"duration_ms\": track.get(\"duration_ms\"),\n",
    "        \"popularity\": track.get(\"popularity\"),\n",
    "        \"external_url\": track.get(\"external_urls\", {}).get(\"spotify\"),\n",
    "        \"genre\": genre\n",
    "    }"
   ]
  },
  {
   "cell_type": "code",
   "execution_count": null,
   "id": "8dca318b",
   "metadata": {},
   "outputs": [
    {
     "name": "stdout",
     "output_type": "stream",
     "text": [
      "Processing Country...\n",
      "Kept 50 unique tracks from Country\n",
      "Processing Hip-Hop...\n",
      "Kept 50 unique tracks from Hip-Hop\n",
      "Processing Jazz...\n",
      "Kept 50 unique tracks from Jazz\n",
      "Processing Pop...\n",
      "Kept 50 unique tracks from Pop\n",
      "Processing Rock...\n",
      "Kept 50 unique tracks from Rock\n"
     ]
    }
   ],
   "source": [
    "all_tracks = []\n",
    "\n",
    "for filename in os.listdir(RAW_DIR):\n",
    "    if not filename.endswith(\".json\"):\n",
    "        continue\n",
    "    \n",
    "    genre_name = filename.replace(\"_top_songs.json\", \"\")\n",
    "    raw_path = os.path.join(RAW_DIR, filename)\n",
    "    \n",
    "    raw_tracks = load_json(raw_path)\n",
    "    \n",
    "    seen_ids = set()\n",
    "    genre_tracks = []\n",
    "    \n",
    "    for item in raw_tracks:\n",
    "        if len(genre_tracks) >= 50:\n",
    "            break\n",
    "        \n",
    "        track_info = extract_track_info(item, genre_name)\n",
    "        if not track_info or not track_info[\"id\"]:\n",
    "            continue\n",
    "        \n",
    "        if track_info[\"id\"] in seen_ids:\n",
    "            continue\n",
    "        \n",
    "        seen_ids.add(track_info[\"id\"])\n",
    "        genre_tracks.append(track_info)\n",
    "    \n",
    "    all_tracks.extend(genre_tracks)\n"
   ]
  },
  {
   "cell_type": "code",
   "execution_count": null,
   "id": "5bc08e63",
   "metadata": {},
   "outputs": [
    {
     "name": "stdout",
     "output_type": "stream",
     "text": [
      "\n",
      "Saved 250 total tracks (50 max per playlist) to ../data_clean/spotify_top_songs_clean.csv\n"
     ]
    }
   ],
   "source": [
    "df = pd.DataFrame(all_tracks)\n",
    "df.to_csv(OUTPUT_FILE, index=False, encoding=\"utf-8\")\n"
   ]
  }
 ],
 "metadata": {
  "kernelspec": {
   "display_name": "music_trends",
   "language": "python",
   "name": "python3"
  },
  "language_info": {
   "codemirror_mode": {
    "name": "ipython",
    "version": 3
   },
   "file_extension": ".py",
   "mimetype": "text/x-python",
   "name": "python",
   "nbconvert_exporter": "python",
   "pygments_lexer": "ipython3",
   "version": "3.11.13"
  }
 },
 "nbformat": 4,
 "nbformat_minor": 5
}
