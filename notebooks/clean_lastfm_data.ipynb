{
 "cells": [
  {
   "cell_type": "code",
   "execution_count": 1,
   "id": "58dc6bb8",
   "metadata": {},
   "outputs": [],
   "source": [
    "import pandas as pd\n",
    "import os\n",
    "import json\n",
    "\n",
    "folder = \"../data_raw/lastfm\"\n",
    "with open(os.path.join(folder, \"US_top_tracks.json\"), \"r\", encoding=\"utf-8\") as f:\n",
    "    lastfm_data = json.load(f)\n",
    "\n",
    "tracks_list = []\n",
    "for track in lastfm_data.get(\"tracks\", {}).get(\"track\", []):\n",
    "    tracks_list.append({\n",
    "        \"track_name\": track.get(\"name\"),\n",
    "        \"artist_name\": track.get(\"artist\", {}).get(\"name\"),\n",
    "        \"listeners\": int(track.get(\"listeners\", 0))\n",
    "    })\n",
    "\n",
    "lastfm_df = pd.DataFrame(tracks_list)\n",
    "\n"
   ]
  },
  {
   "cell_type": "code",
   "execution_count": null,
   "id": "3371a30e",
   "metadata": {},
   "outputs": [
    {
     "name": "stdout",
     "output_type": "stream",
     "text": [
      "<class 'pandas.core.frame.DataFrame'>\n",
      "RangeIndex: 50 entries, 0 to 49\n",
      "Data columns (total 3 columns):\n",
      " #   Column       Non-Null Count  Dtype \n",
      "---  ------       --------------  ----- \n",
      " 0   track_name   50 non-null     object\n",
      " 1   artist_name  50 non-null     object\n",
      " 2   listeners    50 non-null     int64 \n",
      "dtypes: int64(1), object(2)\n",
      "memory usage: 1.3+ KB\n"
     ]
    }
   ],
   "source": [
    "lastfm_df.info()\n",
    "\n",
    "lastfm_df.drop_duplicates(subset=['track_name', 'artist_name'], inplace=True)\n",
    "lastfm_df.dropna(subset=['track_name', 'artist_name'], inplace=True)\n"
   ]
  },
  {
   "cell_type": "code",
   "execution_count": 5,
   "id": "2386c14c",
   "metadata": {},
   "outputs": [],
   "source": [
    "lastfm_df.to_csv(\"../data_clean/lastfm_US_top_tracks.csv\", index=False)\n"
   ]
  }
 ],
 "metadata": {
  "kernelspec": {
   "display_name": "music_trends",
   "language": "python",
   "name": "python3"
  },
  "language_info": {
   "codemirror_mode": {
    "name": "ipython",
    "version": 3
   },
   "file_extension": ".py",
   "mimetype": "text/x-python",
   "name": "python",
   "nbconvert_exporter": "python",
   "pygments_lexer": "ipython3",
   "version": "3.11.13"
  }
 },
 "nbformat": 4,
 "nbformat_minor": 5
}
